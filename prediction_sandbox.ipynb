{
 "cells": [
  {
   "cell_type": "code",
   "execution_count": 50,
   "metadata": {},
   "outputs": [],
   "source": [
    "import matplotlib.pyplot as plt\n",
    "import numpy as np\n",
    "import pandas as pd\n",
    "import re\n",
    "from sklearn.linear_model import MultiTaskElasticNetCV\n",
    "from sklearn.model_selection import train_test_split, StratifiedKFold, StratifiedShuffleSplit"
   ]
  },
  {
   "cell_type": "code",
   "execution_count": 29,
   "metadata": {},
   "outputs": [
    {
     "data": {
      "text/plain": [
       "(6571, 1192)"
      ]
     },
     "execution_count": 29,
     "metadata": {},
     "output_type": "execute_result"
    }
   ],
   "source": [
    "combined_data = pd.read_csv('cleaned_data.csv')\n",
    "combined_data.shape"
   ]
  },
  {
   "cell_type": "code",
   "execution_count": 30,
   "metadata": {},
   "outputs": [
    {
     "data": {
      "text/plain": [
       "5680"
      ]
     },
     "execution_count": 30,
     "metadata": {},
     "output_type": "execute_result"
    }
   ],
   "source": [
    "sum(combined_data[\"has_activity\"].notna())"
   ]
  },
  {
   "cell_type": "code",
   "execution_count": 35,
   "metadata": {},
   "outputs": [
    {
     "data": {
      "text/plain": [
       "(5690, 1192)"
      ]
     },
     "execution_count": 35,
     "metadata": {},
     "output_type": "execute_result"
    }
   ],
   "source": [
    "combined_data = combined_data[(combined_data[\"has_activity\"].notna() | \n",
    "                               combined_data[\"has_sleep\"].notna()) & \n",
    "                              combined_data[\"has_clinical\"].notna() &\n",
    "                              combined_data[\"clinical\"].notna()]\n",
    "combined_data.shape"
   ]
  },
  {
   "cell_type": "code",
   "execution_count": 74,
   "metadata": {},
   "outputs": [],
   "source": [
    "train_data, holdout_data = train_test_split(combined_data, test_size = .2, random_state=1876, shuffle = True, stratify = combined_data[\"clinical\"])"
   ]
  },
  {
   "cell_type": "code",
   "execution_count": 75,
   "metadata": {},
   "outputs": [
    {
     "name": "stdout",
     "output_type": "stream",
     "text": [
      "Train supra-clinical cases: 442\n",
      "Holdout supra-clinical cases: 110\n",
      "Train supra-clinical cases prop: 0.09710017574692442\n",
      "Holdout supra-clinical cases prop: 0.09666080843585237\n"
     ]
    }
   ],
   "source": [
    "print(\"Train supra-clinical cases:\", sum(train_data[\"clinical\"] == 1))\n",
    "print(\"Holdout supra-clinical cases:\", sum(holdout_data[\"clinical\"] == 1))\n",
    "print(\"Train supra-clinical cases prop:\", sum(train_data[\"clinical\"] == 1) / holdoutsplit[0].shape[0])\n",
    "print(\"Holdout supra-clinical cases prop:\", sum(holdout_data[\"clinical\"] == 1) / holdoutsplit[1].shape[0])"
   ]
  },
  {
   "cell_type": "code",
   "execution_count": 76,
   "metadata": {},
   "outputs": [
    {
     "data": {
      "text/plain": [
       "4107    NDAR_INVKP8W0VHU\n",
       "2567    NDAR_INVCC7178BU\n",
       "6071    NDAR_INVXHD5E4MN\n",
       "4071    NDAR_INVKH00C10R\n",
       "6519    NDAR_INVZR16R6Y3\n",
       "              ...       \n",
       "65      NDAR_INV09T2EBX4\n",
       "1842    NDAR_INV8RNZXR25\n",
       "6326    NDAR_INVYMMRDKJW\n",
       "3692    NDAR_INVHRNX3BK4\n",
       "5002    NDAR_INVR5KUTX3Y\n",
       "Name: subjectkey, Length: 1138, dtype: object"
      ]
     },
     "execution_count": 76,
     "metadata": {},
     "output_type": "execute_result"
    }
   ],
   "source": [
    "holdout_data[\"subjectkey\"].write_csv"
   ]
  }
 ],
 "metadata": {
  "kernelspec": {
   "display_name": "Python [conda env:abcd_ml_3.7]",
   "language": "python",
   "name": "conda-env-abcd_ml_3.7-py"
  },
  "language_info": {
   "codemirror_mode": {
    "name": "ipython",
    "version": 3
   },
   "file_extension": ".py",
   "mimetype": "text/x-python",
   "name": "python",
   "nbconvert_exporter": "python",
   "pygments_lexer": "ipython3",
   "version": "3.7.10"
  }
 },
 "nbformat": 4,
 "nbformat_minor": 2
}
