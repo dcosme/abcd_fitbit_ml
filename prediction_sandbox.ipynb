{
 "cells": [
  {
   "cell_type": "code",
   "execution_count": 52,
   "metadata": {},
   "outputs": [],
   "source": [
    "import matplotlib.pyplot as plt\n",
    "import numpy as np\n",
    "import pandas as pd\n",
    "from scipy.stats import norm\n",
    "from sklearn.linear_model import MultiTaskElasticNetCV\n",
    "from sklearn.model_selection import train_test_split, StratifiedKFold, ShuffleSplit, cross_val_score\n",
    "from sklearn.pipeline import make_pipeline\n",
    "from sklearn.experimental import enable_iterative_imputer\n",
    "from sklearn.impute import IterativeImputer"
   ]
  },
  {
   "cell_type": "code",
   "execution_count": 3,
   "metadata": {},
   "outputs": [
    {
     "data": {
      "text/plain": [
       "(6571, 1192)"
      ]
     },
     "execution_count": 3,
     "metadata": {},
     "output_type": "execute_result"
    }
   ],
   "source": [
    "combined_data = pd.read_csv('cleaned_data.csv')\n",
    "combined_data.shape"
   ]
  },
  {
   "cell_type": "code",
   "execution_count": 4,
   "metadata": {},
   "outputs": [
    {
     "data": {
      "text/plain": [
       "5680"
      ]
     },
     "execution_count": 4,
     "metadata": {},
     "output_type": "execute_result"
    }
   ],
   "source": [
    "sum(combined_data[\"has_activity\"].notna())"
   ]
  },
  {
   "cell_type": "code",
   "execution_count": 5,
   "metadata": {},
   "outputs": [
    {
     "data": {
      "text/plain": [
       "(5690, 1192)"
      ]
     },
     "execution_count": 5,
     "metadata": {},
     "output_type": "execute_result"
    }
   ],
   "source": [
    "combined_data = combined_data[(combined_data[\"has_activity\"].notna() | \n",
    "                               combined_data[\"has_sleep\"].notna()) & \n",
    "                              combined_data[\"has_clinical\"].notna() &\n",
    "                              combined_data[\"clinical\"].notna()]\n",
    "combined_data.shape"
   ]
  },
  {
   "cell_type": "code",
   "execution_count": 6,
   "metadata": {},
   "outputs": [],
   "source": [
    "train_data, holdout_data = train_test_split(combined_data, test_size = .2, random_state=1876, shuffle=True, stratify=combined_data[\"clinical\"])"
   ]
  },
  {
   "cell_type": "code",
   "execution_count": 9,
   "metadata": {},
   "outputs": [
    {
     "name": "stdout",
     "output_type": "stream",
     "text": [
      "Train supra-clinical cases: 442\n",
      "Holdout supra-clinical cases: 110\n",
      "Train supra-clinical cases prop: 0.09710017574692442\n",
      "Holdout supra-clinical cases prop: 0.09666080843585237\n"
     ]
    }
   ],
   "source": [
    "print(\"Train supra-clinical cases:\", sum(train_data[\"clinical\"] == 1))\n",
    "print(\"Holdout supra-clinical cases:\", sum(holdout_data[\"clinical\"] == 1))\n",
    "print(\"Train supra-clinical cases prop:\", sum(train_data[\"clinical\"] == 1) / train_data.shape[0])\n",
    "print(\"Holdout supra-clinical cases prop:\", sum(holdout_data[\"clinical\"] == 1) / holdout_data.shape[0])"
   ]
  },
  {
   "cell_type": "code",
   "execution_count": 10,
   "metadata": {},
   "outputs": [],
   "source": [
    "holdout_data[\"subjectkey\"].to_csv('holdout_ids.csv')"
   ]
  },
  {
   "cell_type": "code",
   "execution_count": 25,
   "metadata": {},
   "outputs": [],
   "source": [
    "def get_cv_scores(imputer, regressor, cvsplitter, X, Y, n_jobs=1):\n",
    "    estimator = make_pipeline(imputer, regressor)\n",
    "    scores = cross_val_score(estimator, X, Y, cv=cvsplitter, n_jobs=n_jobs)\n",
    "    return(scores)"
   ]
  },
  {
   "cell_type": "code",
   "execution_count": 26,
   "metadata": {},
   "outputs": [],
   "source": [
    "# y is 4-11, or 12-13, or 14\n",
    "#  PA daily: 17-412\n",
    "#  PA weekly: 413-457\n",
    "#  PA summary: 458-475\n",
    "#\n",
    "#  sleep daily: 477-1092\n",
    "#  sleep weekly: 1092-1162\n",
    "#  sleep summary: 1163-1190\n",
    "# i=0\n",
    "# for col in combined_data.columns:\n",
    "#     print(i, \":\", col)\n",
    "#     i=i+1"
   ]
  },
  {
   "cell_type": "code",
   "execution_count": 62,
   "metadata": {},
   "outputs": [],
   "source": [
    "X = train_data.iloc[:,458:476].to_numpy()\n",
    "Y = train_data.iloc[:,4:11].to_numpy()"
   ]
  },
  {
   "cell_type": "code",
   "execution_count": 63,
   "metadata": {},
   "outputs": [],
   "source": [
    "imputer = IterativeImputer(missing_values=np.nan, add_indicator=True, n_nearest_features=5, sample_posterior=True, random_state=10)\n",
    "cvsplitter_outer = ShuffleSplit(n_splits=100, test_size=.2)\n",
    "cvsplitter_inner = ShuffleSplit(n_splits=10, test_size=.2)\n",
    "#n_jobs below will be multipled by the number given to get_cv_scores\n",
    "regressor = MultiTaskElasticNetCV(l1_ratio=[.1, .5, .7, .9, .95, .99, 1], n_jobs=4, cv = cvsplitter_inner)"
   ]
  },
  {
   "cell_type": "code",
   "execution_count": null,
   "metadata": {},
   "outputs": [],
   "source": [
    "scores = get_cv_scores(imputer, regressor, cvsplitter_outer, X, Y, n_jobs=4)"
   ]
  },
  {
   "cell_type": "code",
   "execution_count": 61,
   "metadata": {},
   "outputs": [
    {
     "data": {
      "text/plain": [
       "(array([ 1.,  0.,  0.,  1.,  0.,  0.,  0.,  0.,  0.,  2.,  1.,  0.,  3.,\n",
       "         1.,  2.,  1.,  5.,  1.,  5.,  5.,  2.,  5., 11.,  5., 10.,  8.,\n",
       "         9.,  9.,  5.,  5.]),\n",
       " array([-3.39775959, -3.34897131, -3.30018302, -3.25139474, -3.20260645,\n",
       "        -3.15381817, -3.10502989, -3.0562416 , -3.00745332, -2.95866503,\n",
       "        -2.90987675, -2.86108846, -2.81230018, -2.76351189, -2.71472361,\n",
       "        -2.66593533, -2.61714704, -2.56835876, -2.51957047, -2.47078219,\n",
       "        -2.4219939 , -2.37320562, -2.32441734, -2.27562905, -2.22684077,\n",
       "        -2.17805248, -2.1292642 , -2.08047591, -2.03168763, -1.98289934,\n",
       "        -1.93411106]),\n",
       " <BarContainer object of 30 artists>)"
      ]
     },
     "execution_count": 61,
     "metadata": {},
     "output_type": "execute_result"
    },
    {
     "data": {
      "image/png": "[encoded data removed]",
      "text/plain": [
       "<Figure size 432x288 with 1 Axes>"
      ]
     },
     "metadata": {
      "needs_background": "light"
     },
     "output_type": "display_data"
    }
   ],
   "source": [
    "%matplotlib inline\n",
    "plt.hist(norm.ppf(scores), bins=30)"
   ]
  },
  {
   "cell_type": "code",
   "execution_count": 50,
   "metadata": {},
   "outputs": [
    {
     "data": {
      "text/plain": [
       "-inf"
      ]
     },
     "execution_count": 50,
     "metadata": {},
     "output_type": "execute_result"
    }
   ],
   "source": [
    "\n"
   ]
  },
  {
   "cell_type": "code",
   "execution_count": null,
   "metadata": {},
   "outputs": [],
   "source": []
  }
 ],
 "metadata": {
  "kernelspec": {
   "display_name": "Python [conda env:abcd_ml_3.7]",
   "language": "python",
   "name": "conda-env-abcd_ml_3.7-py"
  },
  "language_info": {
   "codemirror_mode": {
    "name": "ipython",
    "version": 3
   },
   "file_extension": ".py",
   "mimetype": "text/x-python",
   "name": "python",
   "nbconvert_exporter": "python",
   "pygments_lexer": "ipython3",
   "version": "3.7.10"
  }
 },
 "nbformat": 4,
 "nbformat_minor": 2
}
